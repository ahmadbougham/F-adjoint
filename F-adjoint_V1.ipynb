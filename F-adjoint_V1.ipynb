{
 "cells": [
  {
   "cell_type": "code",
   "execution_count": 8,
   "id": "9fa9897c",
   "metadata": {},
   "outputs": [
    {
     "name": "stderr",
     "output_type": "stream",
     "text": [
      "  0%|                                                  | 0/2500 [00:00<?, ?it/s]\n"
     ]
    },
    {
     "ename": "ValueError",
     "evalue": "all the input array dimensions except for the concatenation axis must match exactly, but along dimension 1, the array at index 0 has size 4 and the array at index 1 has size 1",
     "output_type": "error",
     "traceback": [
      "\u001b[0;31m---------------------------------------------------------------------------\u001b[0m",
      "\u001b[0;31mValueError\u001b[0m                                Traceback (most recent call last)",
      "\u001b[0;32m/tmp/ipykernel_74078/3168301360.py\u001b[0m in \u001b[0;36m<module>\u001b[0;34m\u001b[0m\n\u001b[1;32m     73\u001b[0m \u001b[0my\u001b[0m \u001b[0;34m=\u001b[0m \u001b[0mnp\u001b[0m\u001b[0;34m.\u001b[0m\u001b[0marray\u001b[0m\u001b[0;34m(\u001b[0m\u001b[0;34m[\u001b[0m\u001b[0;36m0\u001b[0m\u001b[0;34m,\u001b[0m \u001b[0;36m1\u001b[0m\u001b[0;34m,\u001b[0m \u001b[0;36m1\u001b[0m\u001b[0;34m,\u001b[0m \u001b[0;36m0\u001b[0m\u001b[0;34m]\u001b[0m\u001b[0;34m)\u001b[0m\u001b[0;34m\u001b[0m\u001b[0;34m\u001b[0m\u001b[0m\n\u001b[1;32m     74\u001b[0m \u001b[0;34m\u001b[0m\u001b[0m\n\u001b[0;32m---> 75\u001b[0;31m \u001b[0mW\u001b[0m\u001b[0;34m=\u001b[0m\u001b[0mneural_network\u001b[0m\u001b[0;34m(\u001b[0m\u001b[0mX\u001b[0m\u001b[0;34m,\u001b[0m \u001b[0my\u001b[0m\u001b[0;34m,\u001b[0m \u001b[0mlearning_rate\u001b[0m \u001b[0;34m=\u001b[0m \u001b[0;36m0.5\u001b[0m\u001b[0;34m,\u001b[0m \u001b[0miter\u001b[0m \u001b[0;34m=\u001b[0m \u001b[0;36m2500\u001b[0m\u001b[0;34m)\u001b[0m\u001b[0;34m\u001b[0m\u001b[0;34m\u001b[0m\u001b[0m\n\u001b[0m\u001b[1;32m     76\u001b[0m \u001b[0mW\u001b[0m\u001b[0;34m\u001b[0m\u001b[0;34m\u001b[0m\u001b[0m\n\u001b[1;32m     77\u001b[0m \u001b[0;34m\u001b[0m\u001b[0m\n",
      "\u001b[0;32m/tmp/ipykernel_74078/3168301360.py\u001b[0m in \u001b[0;36mneural_network\u001b[0;34m(X, y, learning_rate, iter)\u001b[0m\n\u001b[1;32m     63\u001b[0m     \u001b[0mtrain_acc\u001b[0m \u001b[0;34m=\u001b[0m \u001b[0;34m[\u001b[0m \u001b[0;34m]\u001b[0m\u001b[0;34m\u001b[0m\u001b[0;34m\u001b[0m\u001b[0m\n\u001b[1;32m     64\u001b[0m     \u001b[0;32mfor\u001b[0m \u001b[0mi\u001b[0m \u001b[0;32min\u001b[0m \u001b[0mtqdm\u001b[0m\u001b[0;34m(\u001b[0m\u001b[0mrange\u001b[0m\u001b[0;34m(\u001b[0m\u001b[0miter\u001b[0m\u001b[0;34m)\u001b[0m\u001b[0;34m)\u001b[0m\u001b[0;34m:\u001b[0m\u001b[0;34m\u001b[0m\u001b[0;34m\u001b[0m\u001b[0m\n\u001b[0;32m---> 65\u001b[0;31m         \u001b[0mactivations\u001b[0m \u001b[0;34m=\u001b[0m \u001b[0mforward_propagation\u001b[0m\u001b[0;34m(\u001b[0m\u001b[0mX\u001b[0m\u001b[0;34m,\u001b[0m \u001b[0mparameters\u001b[0m\u001b[0;34m)\u001b[0m\u001b[0;34m\u001b[0m\u001b[0;34m\u001b[0m\u001b[0m\n\u001b[0m\u001b[1;32m     66\u001b[0m         \u001b[0madjoints\u001b[0m \u001b[0;34m=\u001b[0m \u001b[0mbackpropagation\u001b[0m\u001b[0;34m(\u001b[0m\u001b[0my\u001b[0m\u001b[0;34m,\u001b[0m \u001b[0mactivations\u001b[0m\u001b[0;34m,\u001b[0m \u001b[0mparameters\u001b[0m\u001b[0;34m)\u001b[0m\u001b[0;34m\u001b[0m\u001b[0;34m\u001b[0m\u001b[0m\n\u001b[1;32m     67\u001b[0m         \u001b[0mgradients\u001b[0m \u001b[0;34m=\u001b[0m \u001b[0mpartial_derivatives\u001b[0m\u001b[0;34m(\u001b[0m\u001b[0mactivations\u001b[0m\u001b[0;34m,\u001b[0m \u001b[0madjoints\u001b[0m\u001b[0;34m,\u001b[0m \u001b[0mparameters\u001b[0m\u001b[0;34m)\u001b[0m\u001b[0;34m\u001b[0m\u001b[0;34m\u001b[0m\u001b[0m\n",
      "\u001b[0;32m/tmp/ipykernel_74078/3168301360.py\u001b[0m in \u001b[0;36mforward_propagation\u001b[0;34m(X, parameters)\u001b[0m\n\u001b[1;32m     14\u001b[0m     \u001b[0mL\u001b[0m \u001b[0;34m=\u001b[0m \u001b[0mlen\u001b[0m\u001b[0;34m(\u001b[0m\u001b[0mparameters\u001b[0m\u001b[0;34m)\u001b[0m\u001b[0;34m\u001b[0m\u001b[0;34m\u001b[0m\u001b[0m\n\u001b[1;32m     15\u001b[0m     \u001b[0;32mfor\u001b[0m \u001b[0mh\u001b[0m \u001b[0;32min\u001b[0m \u001b[0mrange\u001b[0m\u001b[0;34m(\u001b[0m\u001b[0;36m1\u001b[0m\u001b[0;34m,\u001b[0m \u001b[0mL\u001b[0m\u001b[0;34m+\u001b[0m\u001b[0;36m1\u001b[0m\u001b[0;34m)\u001b[0m\u001b[0;34m:\u001b[0m\u001b[0;34m\u001b[0m\u001b[0;34m\u001b[0m\u001b[0m\n\u001b[0;32m---> 16\u001b[0;31m         \u001b[0mZ\u001b[0m \u001b[0;34m=\u001b[0m \u001b[0mnp\u001b[0m\u001b[0;34m.\u001b[0m\u001b[0mconcatenate\u001b[0m\u001b[0;34m(\u001b[0m\u001b[0;34m(\u001b[0m\u001b[0mactivations\u001b[0m\u001b[0;34m[\u001b[0m\u001b[0;34m'X'\u001b[0m\u001b[0;34m+\u001b[0m\u001b[0mstr\u001b[0m\u001b[0;34m(\u001b[0m\u001b[0mh\u001b[0m\u001b[0;34m-\u001b[0m\u001b[0;36m1\u001b[0m\u001b[0;34m)\u001b[0m\u001b[0;34m]\u001b[0m\u001b[0;34m,\u001b[0m \u001b[0mnp\u001b[0m\u001b[0;34m.\u001b[0m\u001b[0mones\u001b[0m\u001b[0;34m(\u001b[0m\u001b[0;34m(\u001b[0m\u001b[0mX\u001b[0m\u001b[0;34m.\u001b[0m\u001b[0mshape\u001b[0m\u001b[0;34m[\u001b[0m\u001b[0;36m0\u001b[0m\u001b[0;34m]\u001b[0m\u001b[0;34m,\u001b[0m\u001b[0;36m1\u001b[0m\u001b[0;34m)\u001b[0m\u001b[0;34m)\u001b[0m\u001b[0;34m)\u001b[0m\u001b[0;34m,\u001b[0m \u001b[0maxis\u001b[0m \u001b[0;34m=\u001b[0m \u001b[0;36m0\u001b[0m\u001b[0;34m)\u001b[0m\u001b[0;34m\u001b[0m\u001b[0;34m\u001b[0m\u001b[0m\n\u001b[0m\u001b[1;32m     17\u001b[0m         \u001b[0mY\u001b[0m \u001b[0;34m=\u001b[0m \u001b[0mparameters\u001b[0m\u001b[0;34m[\u001b[0m\u001b[0;34m'W'\u001b[0m\u001b[0;34m+\u001b[0m\u001b[0mstr\u001b[0m\u001b[0;34m(\u001b[0m\u001b[0mh\u001b[0m\u001b[0;34m)\u001b[0m\u001b[0;34m]\u001b[0m\u001b[0;34m.\u001b[0m\u001b[0mdot\u001b[0m\u001b[0;34m(\u001b[0m\u001b[0mZ\u001b[0m\u001b[0;34m)\u001b[0m\u001b[0;34m\u001b[0m\u001b[0;34m\u001b[0m\u001b[0m\n\u001b[1;32m     18\u001b[0m         \u001b[0mactivations\u001b[0m\u001b[0;34m[\u001b[0m\u001b[0;34m'X'\u001b[0m\u001b[0;34m+\u001b[0m\u001b[0mstr\u001b[0m\u001b[0;34m(\u001b[0m\u001b[0mh\u001b[0m\u001b[0;34m)\u001b[0m\u001b[0;34m]\u001b[0m \u001b[0;34m=\u001b[0m \u001b[0;36m1\u001b[0m\u001b[0;34m/\u001b[0m\u001b[0;34m(\u001b[0m\u001b[0;36m1\u001b[0m\u001b[0;34m+\u001b[0m\u001b[0mnp\u001b[0m\u001b[0;34m.\u001b[0m\u001b[0mexp\u001b[0m\u001b[0;34m(\u001b[0m\u001b[0;34m-\u001b[0m\u001b[0mY\u001b[0m\u001b[0;34m)\u001b[0m\u001b[0;34m)\u001b[0m\u001b[0;34m\u001b[0m\u001b[0;34m\u001b[0m\u001b[0m\n",
      "\u001b[0;31mValueError\u001b[0m: all the input array dimensions except for the concatenation axis must match exactly, but along dimension 1, the array at index 0 has size 4 and the array at index 1 has size 1"
     ]
    }
   ],
   "source": [
    "import numpy as np\n",
    "N0, N1, NL=2,2,1\n",
    "dimensions = [N0, N1, NL]\n",
    "def initialization(dimensions):\n",
    "    parameters = {}\n",
    "    L = len(dimensions)\n",
    "    for h in range(1, L):\n",
    "        parameters[f'W{h}'] = np.random.randn(dimensions[h], dimensions[h-1]+1)\n",
    "    return parameters\n",
    "\n",
    "def forward_propagation(X, parameters):\n",
    "    X = np.transpose(X)\n",
    "    activations = {'X0' : X}\n",
    "    L = len(parameters)\n",
    "    for h in range(1, L+1):\n",
    "        Z = np.concatenate((activations['X'+str(h-1)], np.ones((X.shape[0],1))), axis = 0)\n",
    "        Y = parameters['W'+str(h)].dot(Z)\n",
    "        activations['X'+str(h)] = 1/(1+np.exp(-Y))\n",
    "    return activations\n",
    "\n",
    "def predict(X, parameters):\n",
    "    L = len(parameters)\n",
    "    activations = forward_propagation(X, parameters)\n",
    "    XL = activations['X'+str(L)]\n",
    "    return XL >= 0.5\n",
    "\n",
    "def log_loss(y, activations, parameters):\n",
    "    L = len(parameters)\n",
    "    activations = forward_propagation(X, parameters)\n",
    "    train_loss = 1/len(y) * np.sum(-y * (np.log(activations['X'+str(L)]))-(1-y) * (np.log(1-\n",
    "    activations['X'+str(L)])))\n",
    "    return train_loss\n",
    "\n",
    "def backpropagation(y, activations, parameters):\n",
    "    m = len(y)\n",
    "    L = len(parameters)\n",
    "    adjoints = {'A'+str(L) : 1/m * (activations['X'+str(L)] -y)}\n",
    "    for h in reversed(range(1, L)):\n",
    "        W = np.delete(parameters['W'+str(h+1)], dimensions[h], axis = 1)\n",
    "        B = np.transpose(W).dot(adjoints['A'+str(h+1)])\n",
    "        adjoints['A'+str(h)] = B * activations['X'+str(h)] * (1-activations['X'+str(h)])\n",
    "    return adjoints\n",
    "\n",
    "def partial_derivatives(activations, adjoints, parameters):\n",
    "    L = len(parameters)\n",
    "    gradients = {}\n",
    "    for h in reversed(range(1, L+1)):\n",
    "        Z = np.concatenate((activations['X'+str(h-1)], np.ones((1,len(y)))), axis = 0)\n",
    "        gradients['dW'+str(h)] = adjoints['A'+str(h)].dot(np.transpose(Z))\n",
    "    return gradients\n",
    "\n",
    "def update(parameters, gradients, learning_rate = 0.4):\n",
    "    L = len(parameters)\n",
    "    for h in range(1, L+1):\n",
    "        parameters['W'+str(h)] = parameters['W'+str(h)] - learning_rate * gradients['dW'+str(h)]\n",
    "    return parameters\n",
    "\n",
    "from tqdm import tqdm\n",
    "\n",
    "def neural_network(X, y, learning_rate = 0.5, iter = 2500):\n",
    "    parameters = initialization(dimensions)\n",
    "    train_loss = [ ]\n",
    "    train_acc = [ ]\n",
    "    for i in tqdm(range(iter)):\n",
    "        activations = forward_propagation(X, parameters)\n",
    "        adjoints = backpropagation(y, activations, parameters)\n",
    "        gradients = partial_derivatives(activations, adjoints, parameters)\n",
    "        parameters = update(parameters, gradients, learning_rate)\n",
    "    return parameters\n",
    "\n",
    "# \n",
    "X = np.array([[0, 0], [0, 1], [1, 0], [1, 1]])\n",
    "y = np.array([0, 1, 1, 0])\n",
    "\n",
    "W=neural_network(X, y, learning_rate = 0.5, iter = 2500)\n",
    "W\n",
    "\n",
    "W[\"W1\"], W[\"W2\"]"
   ]
  },
  {
   "cell_type": "code",
   "execution_count": 7,
   "id": "8f876a18",
   "metadata": {},
   "outputs": [
    {
     "data": {
      "text/plain": [
       "4"
      ]
     },
     "execution_count": 7,
     "metadata": {},
     "output_type": "execute_result"
    }
   ],
   "source": [
    "X.shape[0]"
   ]
  },
  {
   "cell_type": "code",
   "execution_count": null,
   "id": "99bb7817",
   "metadata": {},
   "outputs": [],
   "source": []
  },
  {
   "cell_type": "code",
   "execution_count": null,
   "id": "ccddc274",
   "metadata": {},
   "outputs": [],
   "source": []
  },
  {
   "cell_type": "code",
   "execution_count": 6,
   "id": "60c99aa8",
   "metadata": {},
   "outputs": [
    {
     "data": {
      "text/plain": [
       "{'X0': array([[0, 0, 1, 1],\n",
       "        [0, 1, 0, 1]]),\n",
       " 'X1': array([[0.23219415, 0.21569264, 0.26759777, 0.24939747],\n",
       "        [0.58573691, 0.67729515, 0.8671311 , 0.90643193]]),\n",
       " 'X2': array([[0.61169173, 0.6310247 , 0.62290438, 0.6372971 ]])}"
      ]
     },
     "execution_count": 6,
     "metadata": {},
     "output_type": "execute_result"
    }
   ],
   "source": [
    "parameters=initialization(dimensions)\n",
    "A=forward_propagation(X, parameters)\n",
    "A"
   ]
  },
  {
   "cell_type": "code",
   "execution_count": 57,
   "id": "c25f4a0e",
   "metadata": {},
   "outputs": [],
   "source": [
    "def H(x):\n",
    "    return np.where(x >= 0, 1, 0)\n",
    "\n",
    "#def sigma(x):\n",
    " #   return 1 / (1 + np.exp(-x))\n",
    "def sigma(x):\n",
    "    return np.where(x > 0, (1 / (1 + np.exp(-x))), (np.exp(x) / (1 + np.exp(x))))\n",
    "\n",
    "def sigma_d(x):\n",
    "    return sigma(x) * (1 - sigma(x))"
   ]
  },
  {
   "cell_type": "code",
   "execution_count": 58,
   "id": "3ef5ec17",
   "metadata": {},
   "outputs": [],
   "source": [
    "def F_propagation(X0, W_1, W_2,sigma):\n",
    "    Y1 = np.dot(W_1, X0)\n",
    "    X1 = np.append(sigma(Y1), np.ones((1, 4)), axis=0)\n",
    "    Y2 = np.dot(W_2, X1)\n",
    "    X2 = sigma(Y2)\n",
    "    return X2, Y2, X1, Y1"
   ]
  },
  {
   "cell_type": "code",
   "execution_count": 78,
   "id": "545691e0",
   "metadata": {},
   "outputs": [
    {
     "data": {
      "text/plain": [
       "array([[0, 1, 1, 0]])"
      ]
     },
     "execution_count": 78,
     "metadata": {},
     "output_type": "execute_result"
    }
   ],
   "source": [
    "# \n",
    "W1,W2=W[\"W1\"], W[\"W2\"]\n",
    "#\n",
    "X0 = np.array([[0, 0, 1], [0, 1, 1], [1, 0, 1], [1, 1, 1]]).T\n",
    "y = np.array([0, 1, 1, 0])\n",
    "# \n",
    "N_0 = 3\n",
    "N_1 = 3\n",
    "N_2 = 1\n",
    "X2, Y2, X1, Y1=F_propagation(X0, W1, W2,H)\n",
    "X2"
   ]
  },
  {
   "cell_type": "code",
   "execution_count": null,
   "id": "e875763b",
   "metadata": {},
   "outputs": [],
   "source": []
  },
  {
   "cell_type": "code",
   "execution_count": null,
   "id": "5e2c513d",
   "metadata": {},
   "outputs": [],
   "source": []
  },
  {
   "cell_type": "code",
   "execution_count": null,
   "id": "56311eb2",
   "metadata": {},
   "outputs": [],
   "source": []
  },
  {
   "cell_type": "code",
   "execution_count": null,
   "id": "cc5fac17",
   "metadata": {},
   "outputs": [],
   "source": []
  }
 ],
 "metadata": {
  "kernelspec": {
   "display_name": "Python 3 (ipykernel)",
   "language": "python",
   "name": "python3"
  },
  "language_info": {
   "codemirror_mode": {
    "name": "ipython",
    "version": 3
   },
   "file_extension": ".py",
   "mimetype": "text/x-python",
   "name": "python",
   "nbconvert_exporter": "python",
   "pygments_lexer": "ipython3",
   "version": "3.10.12"
  },
  "varInspector": {
   "cols": {
    "lenName": 16,
    "lenType": 16,
    "lenVar": 40
   },
   "kernels_config": {
    "python": {
     "delete_cmd_postfix": "",
     "delete_cmd_prefix": "del ",
     "library": "var_list.py",
     "varRefreshCmd": "print(var_dic_list())"
    },
    "r": {
     "delete_cmd_postfix": ") ",
     "delete_cmd_prefix": "rm(",
     "library": "var_list.r",
     "varRefreshCmd": "cat(var_dic_list()) "
    }
   },
   "types_to_exclude": [
    "module",
    "function",
    "builtin_function_or_method",
    "instance",
    "_Feature"
   ],
   "window_display": false
  }
 },
 "nbformat": 4,
 "nbformat_minor": 5
}
